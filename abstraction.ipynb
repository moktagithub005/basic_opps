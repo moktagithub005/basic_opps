{
 "cells": [
  {
   "cell_type": "markdown",
   "id": "394a1403",
   "metadata": {},
   "source": [
    "##Abstraction means:\n",
    "hiding the internal implementation and shhowing only the necessary features of an object\n",
    "this helps the programmer to interact with the object without knowing its internal complexity\n"
   ]
  },
  {
   "cell_type": "markdown",
   "id": "dc5dea67",
   "metadata": {},
   "source": [
    "###why abstraction needed\n",
    "#Reduces complexity--> focus only on what an object dose, not how it does it.\n",
    "#Improve security--> Hides sensitive implementation.\n",
    "#supports code reusablity and maintenance--> you can change the internal code witout affecting the parts.\n",
    "#encourages modular design--> implementation can be spread over multiple classes without conflict."
   ]
  },
  {
   "cell_type": "markdown",
   "id": "637f8cc0",
   "metadata": {},
   "source": [
    "###real life analogy\n",
    "##you are steering wheel,accelerator,brake,etc.\n",
    "##but you dont know(or need to know) how the engine,gearbox,and sensors work inside."
   ]
  },
  {
   "cell_type": "code",
   "execution_count": 2,
   "id": "25e50d52",
   "metadata": {},
   "outputs": [
    {
     "name": "stdout",
     "output_type": "stream",
     "text": [
      "paying $500000 using paypal\n"
     ]
    }
   ],
   "source": [
    "## payment gateway system(e.g paypal, stripe)\n",
    "from abc import ABC, abstractmethod\n",
    "\n",
    "class Paymentgateway(ABC):\n",
    "    @abstractmethod\n",
    "    def pay(self,amount):\n",
    "        pass\n",
    "class PayPal(Paymentgateway):\n",
    "    def pay(self,amount):\n",
    "        print(f\"paying ${amount} using paypal\")\n",
    "\n",
    "\n",
    "class Stripe(Paymentgateway):\n",
    "    def pay(self,amount):\n",
    "        print(f\"paying ${amount} using stripe\")\n",
    "\n",
    "\n",
    "## use abstractions \n",
    "def process_payment(payment_methode: Paymentgateway,amount):\n",
    "    payment_methode.pay(amount)\n",
    "\n",
    "gateway=PayPal()\n",
    "process_payment(gateway,500000)"
   ]
  },
  {
   "cell_type": "code",
   "execution_count": 6,
   "id": "e2cd781c",
   "metadata": {},
   "outputs": [
    {
     "name": "stdout",
     "output_type": "stream",
     "text": [
      "uploading mokta_resume to cloud\n"
     ]
    }
   ],
   "source": [
    "## file storage system(e.g cloud, local)\n",
    "from abc import ABC,abstractmethod\n",
    "\n",
    "class FileStorage(ABC):\n",
    "    @abstractmethod\n",
    "    def store_file(self,file_name):\n",
    "        pass\n",
    "\n",
    "class CloudStorage(FileStorage):\n",
    "    def store_file(self, file_name):\n",
    "        print(f\"uploading {file_name} to cloud\")\n",
    "\n",
    "class LocalStorage(FileStorage):\n",
    "    def store_file(self, file_name):\n",
    "        print(f\"uploading {file_name} to local storage\")\n",
    "\n",
    "##use abstract class \n",
    "def file_location(location:FileStorage,file_name):\n",
    "    location.store_file(file_name)\n",
    "\n",
    "store_file=CloudStorage()\n",
    "file_location(store_file,\"mokta_resume\")"
   ]
  },
  {
   "cell_type": "code",
   "execution_count": 7,
   "id": "634b5fc1",
   "metadata": {},
   "outputs": [
    {
     "name": "stdout",
     "output_type": "stream",
     "text": [
      "sneding welcome to unisole private ltd! via sms messanger\n"
     ]
    }
   ],
   "source": [
    "## messaging system \n",
    "from abc import ABC,abstractmethod\n",
    "\n",
    "\n",
    "class Messanger(ABC):\n",
    "    @abstractmethod\n",
    "    def send_message(self,message):\n",
    "        pass \n",
    "\n",
    "class SMSMessanger(Messanger):\n",
    "    def send_message(self, message):\n",
    "        print(f\"sneding {message} via sms messanger\")\n",
    "\n",
    "\n",
    "class EmailMessanger(Messanger):\n",
    "    def send_message(self, message):\n",
    "        print(f\"sending {message} via email messanger\")\n",
    "\n",
    "## use abstraction\n",
    "def message_sender(messanger:Messanger,message):\n",
    "    messanger.send_message(message)\n",
    "\n",
    "source=SMSMessanger()\n",
    "message_sender(source,\"welcome to unisole private ltd!\")"
   ]
  },
  {
   "cell_type": "code",
   "execution_count": 10,
   "id": "a00711c3",
   "metadata": {},
   "outputs": [
    {
     "name": "stdout",
     "output_type": "stream",
     "text": [
      "car engine started\n"
     ]
    }
   ],
   "source": [
    "## vehicle start system\n",
    "from abc import ABC, abstractmethod\n",
    "\n",
    "class Vehicle(ABC):\n",
    "    @abstractmethod\n",
    "    def start_engine(self):\n",
    "        pass\n",
    "\n",
    "class Car(Vehicle):\n",
    "    def start_engine(self):\n",
    "        print(\"car engine started\")\n",
    "\n",
    "class Bike(Vehicle):\n",
    "    def start_engine(self):\n",
    "        print(\"bike engine started\")\n",
    "\n",
    "\n",
    "## use abstarct class \n",
    "def start(vehicle:Vehicle):\n",
    "    vehicle.start_engine()\n",
    "\n",
    "start(Car())"
   ]
  },
  {
   "cell_type": "code",
   "execution_count": null,
   "id": "d1e7d2b5",
   "metadata": {},
   "outputs": [],
   "source": []
  }
 ],
 "metadata": {
  "kernelspec": {
   "display_name": "base",
   "language": "python",
   "name": "python3"
  },
  "language_info": {
   "codemirror_mode": {
    "name": "ipython",
    "version": 3
   },
   "file_extension": ".py",
   "mimetype": "text/x-python",
   "name": "python",
   "nbconvert_exporter": "python",
   "pygments_lexer": "ipython3",
   "version": "3.12.4"
  }
 },
 "nbformat": 4,
 "nbformat_minor": 5
}

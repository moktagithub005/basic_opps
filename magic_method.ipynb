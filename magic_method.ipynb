{
 "cells": [
  {
   "cell_type": "markdown",
   "id": "3789fe2f",
   "metadata": {},
   "source": [
    "##Magic Methods (also known as Dunder Methods — double underscore methods) are special ##methods in Python that start and end with double underscores (__like_this__).\n",
    "##They automatically get triggered in certain situations and allow us to customize the ##behavior of our classes.\n",
    "\n",
    "##Example: __init__, __str__, __add__, __len__, etc."
   ]
  },
  {
   "cell_type": "markdown",
   "id": "6f8de28a",
   "metadata": {},
   "source": [
    "#Why Use Magic Methods?\n",
    "##Customize object construction (__init__)\n",
    "\n",
    "##Create readable object representation (__str__)\n",
    "\n",
    "##Enable comparison between objects (__eq__, __lt__, etc.)\n",
    "\n",
    "##Perform arithmetic operations on objects (__add__, __mul__, etc.)\n",
    "\n",
    "##Make an object iterable (__iter__, __next__)\n",
    "\n",
    "##Enable indexing (__getitem__)"
   ]
  },
  {
   "cell_type": "code",
   "execution_count": 8,
   "id": "1d0fb86a",
   "metadata": {},
   "outputs": [
    {
     "name": "stdout",
     "output_type": "stream",
     "text": [
      "mokta&sanju's Account: $1200000\n",
      "False\n"
     ]
    }
   ],
   "source": [
    "class BankAccount:\n",
    "    def __init__(self, name,balance):\n",
    "        self.name=name\n",
    "        self.balance=balance\n",
    "    def __add__(self,other):\n",
    "        return BankAccount(self.name + \"&\" + other.name, self.balance+other.balance)\n",
    "    \n",
    "    def __eq__(self,other):\n",
    "        return self.balance==other.balance\n",
    "    \n",
    "    def __str__(self):\n",
    "        return f\"{self.name}'s Account: ${self.balance}\"\n",
    "    \n",
    "acc1=BankAccount(\"mokta\",500000)\n",
    "acc2=BankAccount(\"sanju\",700000)\n",
    "merged=acc1+acc2\n",
    "print(merged)\n",
    "\n",
    "print(acc1==acc2)"
   ]
  },
  {
   "cell_type": "code",
   "execution_count": 9,
   "id": "aff33f7b",
   "metadata": {},
   "outputs": [
    {
     "name": "stdout",
     "output_type": "stream",
     "text": [
      "Bananas\n",
      "2\n",
      "cart contains: apples,Bananas\n"
     ]
    }
   ],
   "source": [
    "## custom shopping cart\n",
    "\n",
    "class ShoppingCart:\n",
    "    def __init__(self):\n",
    "        self.items = []\n",
    "\n",
    "    def add_items(self,product):\n",
    "        self.items.append(product)\n",
    "\n",
    "    def __getitem__(self,index):\n",
    "        return self.items[index]\n",
    "    \n",
    "    def __len__(self):\n",
    "        return len(self.items)\n",
    "    \n",
    "    def __str__(self):\n",
    "        return f\"cart contains: {','.join(self.items)}\"\n",
    "\n",
    "cart=ShoppingCart()\n",
    "cart.add_items(\"apples\")\n",
    "cart.add_items(\"Bananas\")\n",
    "\n",
    "print(cart[1])\n",
    "print(len(cart))\n",
    "print(cart)\n",
    "     "
   ]
  },
  {
   "cell_type": "code",
   "execution_count": null,
   "id": "0735a8b0",
   "metadata": {},
   "outputs": [
    {
     "name": "stdout",
     "output_type": "stream",
     "text": [
      "False\n",
      "mokta scored 90\n",
      "[student 'mokta',90, student 'sanju',95]\n"
     ]
    }
   ],
   "source": [
    "## Student Gradebook\n",
    "\n",
    "class Student:\n",
    "\n",
    "    def __init__(self,name,grade):\n",
    "        self.name=name\n",
    "        self.grade=grade\n",
    "\n",
    "    def __gt__(self,other):\n",
    "        return self.grade> other.grade\n",
    "    \n",
    "    def __str__(self):## print readable output\n",
    "        return f\"{self.name} scored {self.grade}\"\n",
    "    \n",
    "    def __repr__(self):\n",
    "        return f\"student {self.name!r},{self.grade}\"\n",
    "    \n",
    "s1=Student(\"mokta\",90)\n",
    "s2=Student(\"sanju\",95)\n",
    "\n",
    "print(s1>s2)\n",
    "print(s1)\n",
    "print([s1,s2])"
   ]
  },
  {
   "cell_type": "code",
   "execution_count": null,
   "id": "d6b2a0be",
   "metadata": {},
   "outputs": [
    {
     "name": "stdout",
     "output_type": "stream",
     "text": [
      "python\n",
      "AI\n",
      "python\n",
      "data science\n"
     ]
    }
   ],
   "source": [
    "## indexing using iteration using __getitem__ and __iter__.\n",
    "class Library:\n",
    "    def __init__(self,books):## create object\n",
    "        self.books=books\n",
    "\n",
    "    def __getitem__(self,index):## indexing like list/dict\n",
    "        return self.books[index]\n",
    "    def __iter__(self): ## make object iterable\n",
    "        return iter(self.books)\n",
    "    \n",
    "library=Library([\"AI\",\"python\",\"data science\"])\n",
    "print(library[1])\n",
    "for book in library:\n",
    "    print(book)"
   ]
  },
  {
   "cell_type": "code",
   "execution_count": 16,
   "id": "fdf097df",
   "metadata": {},
   "outputs": [],
   "source": [
    "# hospital management system\n",
    "\n",
    "class Person:\n",
    "    def __init__(self,name,age):\n",
    "        self.name=name\n",
    "        self.age=age\n",
    "\n",
    "class Doctor(Person):\n",
    "    def __init__(self, name, age, specialization):\n",
    "        super().__init__(name, age)\n",
    "        self.specialization=specialization\n",
    "\n",
    "class patient(Person):\n",
    "    def __init(name,age,disease):\n",
    "        super.__init__(age,name)\n",
    "        self.__disease=disease  #encapsulated\n",
    "    def get_disease(self):\n",
    "        return self.__disease\n",
    "        "
   ]
  },
  {
   "cell_type": "code",
   "execution_count": null,
   "id": "eae09183",
   "metadata": {},
   "outputs": [],
   "source": []
  }
 ],
 "metadata": {
  "kernelspec": {
   "display_name": "base",
   "language": "python",
   "name": "python3"
  },
  "language_info": {
   "codemirror_mode": {
    "name": "ipython",
    "version": 3
   },
   "file_extension": ".py",
   "mimetype": "text/x-python",
   "name": "python",
   "nbconvert_exporter": "python",
   "pygments_lexer": "ipython3",
   "version": "3.12.4"
  }
 },
 "nbformat": 4,
 "nbformat_minor": 5
}

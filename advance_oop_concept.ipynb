{
 "cells": [
  {
   "cell_type": "code",
   "execution_count": 6,
   "id": "677c6972",
   "metadata": {},
   "outputs": [],
   "source": [
    "class Payment:\n",
    "    def pay(self,amount):\n",
    "        pass\n",
    "##derived class one\n",
    "class creditCardPayment(Payment):\n",
    "    def pay(self,amount):\n",
    "        print(f\"paid {amoun} using the credit card\")\n",
    "\n",
    "## derived class 2\n",
    "class PaypalPayment(Payment):\n",
    "    def pay(self,amount):\n",
    "        print(f\"paid {amount} using Paypal\")\n",
    "\n",
    "## derived class 3\n",
    "class UPIPayment(Payment):\n",
    "    def pay(self, amount):\n",
    "        print(f\"paid {amount} using the UPI\")\n",
    "\n",
    "        "
   ]
  },
  {
   "cell_type": "code",
   "execution_count": 7,
   "id": "ef70982f",
   "metadata": {},
   "outputs": [
    {
     "name": "stdout",
     "output_type": "stream",
     "text": [
      "paid 500 using the UPI\n"
     ]
    }
   ],
   "source": [
    "## use polymorphism \n",
    "def checkout(payment_method,amount):\n",
    "    payment_method.pay(amount) # same method name using polymorphic  behavior\n",
    "\n",
    "\n",
    "## use differentn method \n",
    "checkout(UPIPayment(),500)"
   ]
  },
  {
   "cell_type": "code",
   "execution_count": 8,
   "id": "05d87936",
   "metadata": {},
   "outputs": [
    {
     "name": "stdout",
     "output_type": "stream",
     "text": [
      "paid 20000 using Paypal\n"
     ]
    }
   ],
   "source": [
    "checkout(PaypalPayment(),20000)"
   ]
  },
  {
   "cell_type": "markdown",
   "id": "43f0382b",
   "metadata": {},
   "source": [
    "#####polymorphism\n",
    "\n",
    "\n",
    "----> make code flexible \n",
    "----> lets you use one method  name for different  behaviors\n",
    "----> is essential in real world projects like file handlers,UI components, payment system, AI prediction models etc."
   ]
  },
  {
   "cell_type": "code",
   "execution_count": 9,
   "id": "4cc853b8",
   "metadata": {},
   "outputs": [],
   "source": [
    "## lets take a real world AI prediction system example usig ploymorphism\n",
    "## in AI, polymorphism is especially useful when you work with multiple models that follow a common interface\n",
    "## like Predict(), but behave differently.\n"
   ]
  },
  {
   "cell_type": "markdown",
   "id": "5e211310",
   "metadata": {},
   "source": [
    "imagine you are building an AI system for farmers to predict crop diseases based on the crop\n",
    "type (tomato, potato,apple,etc).\n",
    "each crop has its own trained ML model and features, but you want to treat thrm all with the common interface."
   ]
  },
  {
   "cell_type": "code",
   "execution_count": 10,
   "id": "749ca0c3",
   "metadata": {},
   "outputs": [],
   "source": [
    "## step1 create a base calss \n",
    "\n",
    "class CropModel:\n",
    "    def predict(self,data):\n",
    "        raise NotImplementedError(\"subclass must implement this method\")"
   ]
  },
  {
   "cell_type": "code",
   "execution_count": 25,
   "id": "eb2cad13",
   "metadata": {},
   "outputs": [],
   "source": [
    "class TomatoModel(CropModel):\n",
    "    def predict(self,data):\n",
    "        #pretend thi is real ml model\n",
    "        if data['symptom']=='spots':\n",
    "             print(\"tomato disease: Early blight\")\n",
    "        else:\n",
    "            print(\"healthy tomato\")\n",
    "\n",
    "class PotatoModel(CropModel):\n",
    "    def predict(self, data):\n",
    "        if data['symptom']=='wilt':\n",
    "            print(\"potato disease:late blight\")\n",
    "        else:\n",
    "            print(\"healthy potato\")\n",
    "\n",
    "class AppleModel(CropModel):\n",
    "    def predict(self,data):\n",
    "        if data['symptom']=='dark patches':\n",
    "            print(\"apple disease:scab\")\n",
    "        else:\n",
    "            print(\"healthy apple\")\n",
    "            "
   ]
  },
  {
   "cell_type": "code",
   "execution_count": 26,
   "id": "a341bacc",
   "metadata": {},
   "outputs": [],
   "source": [
    "## use polymorphism to predict\n",
    "def disease_prediction(model:CropModel,input_data:dict):\n",
    "    print(model.predict(input_data))"
   ]
  },
  {
   "cell_type": "code",
   "execution_count": 27,
   "id": "4cd73919",
   "metadata": {},
   "outputs": [],
   "source": [
    "## simulated data for each crop\n",
    "tomato_data={'symptom':'spots'}\n",
    "potato_data={'symptom':'wilt'}\n",
    "apple_data={'symptom':'dark patches'}\n"
   ]
  },
  {
   "cell_type": "code",
   "execution_count": 28,
   "id": "20188930",
   "metadata": {},
   "outputs": [
    {
     "name": "stdout",
     "output_type": "stream",
     "text": [
      "tomato disease: Early blight\n",
      "None\n",
      "potato disease:late blight\n",
      "None\n",
      "apple disease:scab\n",
      "None\n"
     ]
    }
   ],
   "source": [
    "## use diffrent models polymorphically\n",
    "disease_prediction(TomatoModel(),tomato_data)\n",
    "disease_prediction(PotatoModel(),potato_data)\n",
    "disease_prediction(AppleModel(),apple_data)"
   ]
  },
  {
   "cell_type": "code",
   "execution_count": 29,
   "id": "1da62ff4",
   "metadata": {},
   "outputs": [],
   "source": [
    "## voice Assistant\n",
    "class Device:\n",
    "    def respond(self,command):\n",
    "        pass\n",
    "class SmartLight(Device):\n",
    "    def respond(self,command):\n",
    "        if command==\"lights on\":\n",
    "            print(\"turning light on\")\n",
    "        else:\n",
    "            print(\"command not recognized\")\n",
    "class SmartSpeaker(Device):\n",
    "    def respond(self,command):\n",
    "        if command==\"play music\":\n",
    "            print(\"play music\")\n",
    "        else:\n",
    "            print(\"command not recognized\")"
   ]
  },
  {
   "cell_type": "code",
   "execution_count": 30,
   "id": "718bcf53",
   "metadata": {},
   "outputs": [],
   "source": [
    "def assistant_command(device:Device,command):\n",
    "    print(device.respond(command))\n",
    "    "
   ]
  },
  {
   "cell_type": "code",
   "execution_count": 31,
   "id": "3ac32b7e",
   "metadata": {},
   "outputs": [
    {
     "name": "stdout",
     "output_type": "stream",
     "text": [
      "turning light on\n",
      "None\n",
      "play music\n",
      "None\n"
     ]
    }
   ],
   "source": [
    "assistant_command(SmartLight(),\"lights on\")\n",
    "assistant_command(SmartSpeaker(),\"play music\")"
   ]
  },
  {
   "cell_type": "code",
   "execution_count": 33,
   "id": "1b06fff0",
   "metadata": {},
   "outputs": [],
   "source": [
    "##Notification system\n",
    "class Notification:\n",
    "    def send(self,message):\n",
    "        pass\n",
    "class EmailNotification(Notification):\n",
    "    def send(self,message):\n",
    "        print(f\"sending email: {message}\")\n",
    "\n",
    "class SMSNotification(Notification):\n",
    "    def send(self,message):\n",
    "        print(f\"sending SMS: {message}\")\n",
    "\n",
    "class PushNotification(Notification):\n",
    "    def send(self,message):\n",
    "        print(f\"sending push notification: {message}\")"
   ]
  },
  {
   "cell_type": "code",
   "execution_count": 35,
   "id": "5d6d0e37",
   "metadata": {},
   "outputs": [],
   "source": [
    "def send_message(notifier:Notification,message):\n",
    "    \n",
    "    notifier.send(message)\n",
    "    "
   ]
  },
  {
   "cell_type": "code",
   "execution_count": 36,
   "id": "673baacc",
   "metadata": {},
   "outputs": [
    {
     "name": "stdout",
     "output_type": "stream",
     "text": [
      "sending email: cogretulation!!! ajay mokta\n",
      "sending SMS: your OTP is 3425\n",
      "sending push notification: new offer for you\n"
     ]
    }
   ],
   "source": [
    "send_message(EmailNotification(),\"cogretulation!!! ajay mokta\")\n",
    "send_message(SMSNotification(),\"your OTP is 3425\")\n",
    "send_message(PushNotification(),\"new offer for you\")"
   ]
  },
  {
   "cell_type": "code",
   "execution_count": 37,
   "id": "1dd0fae1",
   "metadata": {},
   "outputs": [],
   "source": [
    "## vehicle control system(self driving or simulation App)\n",
    "class Vehicle:\n",
    "    def drive(self):\n",
    "        pass\n",
    "\n",
    "class Car:\n",
    "    def drive(self):\n",
    "        print(\"driving a car at 60 km/h\")\n",
    "class Truck:\n",
    "    def drive(self):\n",
    "        print(\"driving  a truck at 40 km/h\")\n",
    "class Bike:\n",
    "    def drive(self):\n",
    "        print(\"driving a bike at 50 km/h\")"
   ]
  },
  {
   "cell_type": "code",
   "execution_count": 39,
   "id": "06812813",
   "metadata": {},
   "outputs": [],
   "source": [
    "def drive_test(vehicle:Vehicle):\n",
    "    print(vehicle.drive())"
   ]
  },
  {
   "cell_type": "code",
   "execution_count": 42,
   "id": "3cc776d6",
   "metadata": {},
   "outputs": [
    {
     "name": "stdout",
     "output_type": "stream",
     "text": [
      "driving a car at 60 km/h\n",
      "None\n",
      "driving  a truck at 40 km/h\n",
      "None\n",
      "driving a bike at 50 km/h\n",
      "None\n"
     ]
    }
   ],
   "source": [
    "drive_test(Car())\n",
    "drive_test(Truck())\n",
    "drive_test(Bike())"
   ]
  },
  {
   "cell_type": "code",
   "execution_count": null,
   "id": "29315735",
   "metadata": {},
   "outputs": [],
   "source": []
  }
 ],
 "metadata": {
  "kernelspec": {
   "display_name": "base",
   "language": "python",
   "name": "python3"
  },
  "language_info": {
   "codemirror_mode": {
    "name": "ipython",
    "version": 3
   },
   "file_extension": ".py",
   "mimetype": "text/x-python",
   "name": "python",
   "nbconvert_exporter": "python",
   "pygments_lexer": "ipython3",
   "version": "3.12.4"
  }
 },
 "nbformat": 4,
 "nbformat_minor": 5
}

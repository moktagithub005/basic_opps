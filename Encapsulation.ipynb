{
 "cells": [
  {
   "cell_type": "markdown",
   "id": "1409bf59",
   "metadata": {},
   "source": [
    "##Encapsulation in oop\n",
    "encapsulation is one of the four pillars of object oriented programming(oop).\n",
    "it means wrapping the data(variables) and methods(functions) together into a \n",
    "single unit(class) and restricting direct access to some pf the object's components.\n"
   ]
  },
  {
   "cell_type": "code",
   "execution_count": 1,
   "id": "fe8f1119",
   "metadata": {},
   "outputs": [],
   "source": [
    "##why encapsulation \n",
    "#---> proects data from unauthorized access.\n",
    "#---> hides internal implementation.\n",
    "#---> prevents accidental modification.\n",
    "#---> improves code maintenance and security."
   ]
  },
  {
   "cell_type": "code",
   "execution_count": 2,
   "id": "3108989e",
   "metadata": {},
   "outputs": [],
   "source": [
    "## public vriable--> self.name\n",
    "## private variable--> self.__name\n",
    "## protected variable--> self._name"
   ]
  },
  {
   "cell_type": "code",
   "execution_count": 3,
   "id": "6a1a9c55",
   "metadata": {},
   "outputs": [
    {
     "name": "stdout",
     "output_type": "stream",
     "text": [
      "mokta\n",
      "22\n"
     ]
    }
   ],
   "source": [
    "class Person:\n",
    "    def __init__(self,name,age):\n",
    "        self.name=name  # public variable\n",
    "        self.age=age    # public variable\n",
    "\n",
    "person=Person(\"mokta\",22)\n",
    "print(person.name)\n",
    "print(person.age)"
   ]
  },
  {
   "cell_type": "code",
   "execution_count": null,
   "id": "4d151e96",
   "metadata": {},
   "outputs": [
    {
     "name": "stdout",
     "output_type": "stream",
     "text": [
      "mokta\n"
     ]
    }
   ],
   "source": [
    "class Person:\n",
    "    def __init__(self,name,age,gender):\n",
    "        self.__name=name\n",
    "        self.__age=age\n",
    "        self.__gender=gender\n",
    "        \n",
    "\n",
    "    def get_name(self):  #use getter method to access private vriable\n",
    "        return self.__name\n",
    "\n",
    "person=Person(\"mokta\",22,\"male\")\n",
    "print(person.get_name())"
   ]
  },
  {
   "cell_type": "code",
   "execution_count": 20,
   "id": "99e122c3",
   "metadata": {},
   "outputs": [],
   "source": [
    "## direct access give you error\n",
    "#print(person.__name)\n",
    "#---------------------------------------------------------------------------\n",
    "#AttributeError                            Traceback (most recent call last)\n",
    "#Cell In[18], line 2\n",
    " #     1 ## direct access give you error\n",
    "#----> 2 print(person.__name)\n",
    "\n",
    "#AttributeError: 'Person' object has no attribute '__name'"
   ]
  },
  {
   "cell_type": "code",
   "execution_count": 21,
   "id": "780f8c2e",
   "metadata": {},
   "outputs": [],
   "source": [
    "## with setter method(updating value)\n",
    "\n",
    "class BankAccount:\n",
    "    def __init__(self,balance):\n",
    "        self.__balance=balance\n",
    "\n",
    "\n",
    "    def get_balance(self):\n",
    "        return self.__balance\n",
    "\n",
    "    def set_balance(self,amount):\n",
    "        if amount>=0:\n",
    "            self.__balance=amount\n",
    "        else:\n",
    "            print(\"invalid balance amount!\")"
   ]
  },
  {
   "cell_type": "code",
   "execution_count": 22,
   "id": "461d756a",
   "metadata": {},
   "outputs": [
    {
     "name": "stdout",
     "output_type": "stream",
     "text": [
      "1000\n"
     ]
    }
   ],
   "source": [
    "account=BankAccount(1000)\n",
    "print(account.get_balance())"
   ]
  },
  {
   "cell_type": "code",
   "execution_count": 23,
   "id": "e1ff4be2",
   "metadata": {},
   "outputs": [
    {
     "name": "stdout",
     "output_type": "stream",
     "text": [
      "5000\n"
     ]
    }
   ],
   "source": [
    "account.set_balance(5000)\n",
    "print(account.get_balance())"
   ]
  },
  {
   "cell_type": "code",
   "execution_count": 26,
   "id": "3e51287e",
   "metadata": {},
   "outputs": [
    {
     "name": "stdout",
     "output_type": "stream",
     "text": [
      "80\n"
     ]
    }
   ],
   "source": [
    "## student report card system\n",
    "class Student:\n",
    "    def __init__(self,name):\n",
    "        self.__marks = 0\n",
    "    def set_marks(self,marks):\n",
    "        if 0 <=marks<= 100:\n",
    "            self.__marks=marks\n",
    "        else:\n",
    "            print(\"invalid marks\")\n",
    "    def get_marks(self):\n",
    "        return self.__marks\n",
    "student=Student(\"ravi\")\n",
    "student.set_marks(80)\n",
    "print(student.get_marks())\n"
   ]
  },
  {
   "cell_type": "code",
   "execution_count": 32,
   "id": "bfdc38da",
   "metadata": {},
   "outputs": [],
   "source": [
    "## ATM machine\n",
    "class ATM:\n",
    "    def __init__(self):\n",
    "        self.__pin=\"1234\"\n",
    "        self.__balance=10000\n",
    "\n",
    "         \n",
    "\n",
    "    def check_pin(self,entered_pin):\n",
    "        return self.__pin == entered_pin\n",
    "\n",
    "    def get_balance(self,entered_pin):\n",
    "        if self.check_pin(entered_pin):\n",
    "            return self.__balance\n",
    "        else:\n",
    "            return \"wrong pin!\""
   ]
  },
  {
   "cell_type": "code",
   "execution_count": 35,
   "id": "0401b719",
   "metadata": {},
   "outputs": [
    {
     "name": "stdout",
     "output_type": "stream",
     "text": [
      "True\n",
      "10000\n"
     ]
    }
   ],
   "source": [
    "atm=ATM()\n",
    "print(atm.check_pin(\"1234\"))\n",
    "print(atm.get_balance(\"1234\"))"
   ]
  },
  {
   "cell_type": "code",
   "execution_count": 36,
   "id": "215160db",
   "metadata": {},
   "outputs": [],
   "source": [
    "## Employee salary management\n",
    "class Employee:\n",
    "    def __init__(self,name,salary):\n",
    "        self.name=name\n",
    "        self.__salary=salary\n",
    "\n",
    "    def get_salary(self):\n",
    "        return self.__salary\n",
    "    \n",
    "    def set_salary(self,salary):\n",
    "        if salary >=0:\n",
    "            self.__salary=salary\n",
    "        else:\n",
    "            print(\"invalid salary\")"
   ]
  },
  {
   "cell_type": "code",
   "execution_count": 38,
   "id": "9c92692a",
   "metadata": {},
   "outputs": [
    {
     "name": "stdout",
     "output_type": "stream",
     "text": [
      "50000\n",
      "60000\n"
     ]
    }
   ],
   "source": [
    "emp=Employee(\"mokta\",50000)\n",
    "print(emp.get_salary())\n",
    "emp.set_salary(60000)\n",
    "print(emp.get_salary())"
   ]
  },
  {
   "cell_type": "code",
   "execution_count": 42,
   "id": "a9a4da31",
   "metadata": {},
   "outputs": [],
   "source": [
    "## online course access system\n",
    "class Course:\n",
    "    def __init__(self,course_name):\n",
    "        self.course_name=course_name\n",
    "        self.__student=[]\n",
    "    def enroll_student(self,student_name):\n",
    "        self.__student.append(student_name)\n",
    "\n",
    "    def is_enrolled(self,student_name):\n",
    "        return student_name in self.__student\n",
    "\n"
   ]
  },
  {
   "cell_type": "code",
   "execution_count": 47,
   "id": "03ca5ed1",
   "metadata": {},
   "outputs": [
    {
     "data": {
      "text/plain": [
       "True"
      ]
     },
     "execution_count": 47,
     "metadata": {},
     "output_type": "execute_result"
    }
   ],
   "source": [
    "course=Course(\"generative ai\")\n",
    "course.enroll_student(\"mokta\")\n",
    "course.is_enrolled(\"mokta\")\n"
   ]
  },
  {
   "cell_type": "code",
   "execution_count": 46,
   "id": "2ac81f26",
   "metadata": {},
   "outputs": [
    {
     "data": {
      "text/plain": [
       "False"
      ]
     },
     "execution_count": 46,
     "metadata": {},
     "output_type": "execute_result"
    }
   ],
   "source": [
    "course.is_enrolled(\"rajesh\")"
   ]
  },
  {
   "cell_type": "code",
   "execution_count": null,
   "id": "5c990148",
   "metadata": {},
   "outputs": [],
   "source": []
  }
 ],
 "metadata": {
  "kernelspec": {
   "display_name": "base",
   "language": "python",
   "name": "python3"
  },
  "language_info": {
   "codemirror_mode": {
    "name": "ipython",
    "version": 3
   },
   "file_extension": ".py",
   "mimetype": "text/x-python",
   "name": "python",
   "nbconvert_exporter": "python",
   "pygments_lexer": "ipython3",
   "version": "3.12.4"
  }
 },
 "nbformat": 4,
 "nbformat_minor": 5
}

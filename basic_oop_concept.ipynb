{
 "cells": [
  {
   "cell_type": "markdown",
   "id": "65e25963",
   "metadata": {},
   "source": [
    "##Create a class Person with name and age attributes. Add a method introduce() that prints the person's name and age."
   ]
  },
  {
   "cell_type": "code",
   "execution_count": null,
   "id": "85922e1a",
   "metadata": {},
   "outputs": [
    {
     "name": "stdout",
     "output_type": "stream",
     "text": [
      "My name is mokta and I am 22 years old\n",
      "<__main__.Person object at 0x00000166A7ED3680>\n"
     ]
    }
   ],
   "source": [
    "##Create a class Person with name and age attributes. Add a method introduce() that prints the person's name and age.\n",
    "class Person:\n",
    "    def __init__(self, name, age):\n",
    "        self.name = name\n",
    "        self.age = age\n",
    "        self.introduce()  # <-- Call the method properly with parentheses\n",
    "\n",
    "    def introduce(self):  # <-- Add self here\n",
    "        print(f\"My name is {self.name} and I am {self.age} years old\")\n",
    "\n",
    "# Creating the object\n",
    "p1 = Person(\"mokta\", 22)\n",
    "\n",
    "# If you want to print object info directly, override __str__()\n",
    "print(p1)\n"
   ]
  },
  {
   "cell_type": "code",
   "execution_count": 16,
   "id": "2d811cd8",
   "metadata": {},
   "outputs": [
    {
     "name": "stdout",
     "output_type": "stream",
     "text": [
      "car model is sedan and year is 2010\n",
      "car model is phantom and year is 1990\n"
     ]
    }
   ],
   "source": [
    "##Create a class Car with model and year. Create two car objects and print their details.\n",
    "class Car:\n",
    "    def __init__(self,model,year):\n",
    "        self.model=model\n",
    "        self.year=year\n",
    "        self.detail()\n",
    "    def detail(self):\n",
    "        print(f\"car model is {self.model} and year is {self.year}\")\n",
    "\n",
    "\n",
    "audi=Car(\"sedan\",2010)\n",
    "RR=Car(\"phantom\",1990)\n"
   ]
  },
  {
   "cell_type": "code",
   "execution_count": 17,
   "id": "0a72ee0b",
   "metadata": {},
   "outputs": [
    {
     "data": {
      "text/plain": [
       "<__main__.Car at 0x166a80303b0>"
      ]
     },
     "execution_count": 17,
     "metadata": {},
     "output_type": "execute_result"
    }
   ],
   "source": [
    "audi"
   ]
  },
  {
   "cell_type": "code",
   "execution_count": 27,
   "id": "93d774ae",
   "metadata": {},
   "outputs": [
    {
     "name": "stdout",
     "output_type": "stream",
     "text": [
      "Area of circle is 50.24\n",
      "circumference of circle is 25.12\n",
      "<__main__.Circle object at 0x00000166A7EA2EA0>\n"
     ]
    }
   ],
   "source": [
    " #Create a class Circle with radius. Add methods to calculate area and circumference.\n",
    "class Circle:\n",
    "    \n",
    "    def __init__(self,r):\n",
    "        self.r=r\n",
    "        self.calculate_area()\n",
    "        self.circumference()\n",
    "\n",
    "    def calculate_area(self):\n",
    "        pi=3.14\n",
    "        area=pi*self.r**2\n",
    "        print(f\"Area of circle is {area}\")\n",
    "\n",
    "    def circumference(self):\n",
    "        pi=3.14\n",
    "        crmf=2*pi*self.r\n",
    "        print(f\"circumference of circle is {crmf}\")\n",
    "\n",
    "c1=Circle(4)\n",
    "print(c1)"
   ]
  },
  {
   "cell_type": "code",
   "execution_count": 28,
   "id": "6e3c2574",
   "metadata": {},
   "outputs": [
    {
     "name": "stdout",
     "output_type": "stream",
     "text": [
      "congretulation! student is pass\n",
      "<__main__.Student object at 0x00000166A7EBB740>\n"
     ]
    }
   ],
   "source": [
    "##Create a class Student with attributes name and marks. Add a method to check if the student passed (marks > 40).\n",
    "class Student:\n",
    "    def __init__(self,name,marks):\n",
    "        self.name=name\n",
    "        self.marks=marks\n",
    "        self.Passed()\n",
    "    def Passed(self):\n",
    "        if self.marks>40:\n",
    "            print(f\"congretulation! student is pass\")\n",
    "        else:\n",
    "            print(f\"ohhhh! you can not make it this time\")\n",
    "\n",
    "s1=Student(\"kaka\",89)\n",
    "print(s1)\n"
   ]
  },
  {
   "cell_type": "code",
   "execution_count": 30,
   "id": "c82f7b6c",
   "metadata": {},
   "outputs": [
    {
     "name": "stdout",
     "output_type": "stream",
     "text": [
      "ohhhh! you can not make it this time\n",
      "<__main__.Student object at 0x00000166A8046930>\n"
     ]
    }
   ],
   "source": [
    "s2=Student(\"ripna kumari\",35)\n",
    "print(s2)"
   ]
  },
  {
   "cell_type": "code",
   "execution_count": 32,
   "id": "c84e1795",
   "metadata": {},
   "outputs": [
    {
     "name": "stdout",
     "output_type": "stream",
     "text": [
      "this book is tokens to innovation and written by Ajay Mokta\n"
     ]
    }
   ],
   "source": [
    "##Create a class Book with title and author. Create a method to display book info.\n",
    "class Book:\n",
    "    def __init__(self,title,author):\n",
    "        self.title=title\n",
    "        self.author=author\n",
    "        self.book_info()\n",
    "\n",
    "    def book_info(self):\n",
    "        print(f\"this book is {self.title} and written by {self.author}\")\n",
    "\n",
    "\n",
    "book1=Book(\"tokens to innovation\",\"Ajay Mokta\")\n",
    "\n"
   ]
  },
  {
   "cell_type": "code",
   "execution_count": null,
   "id": "c9965acd",
   "metadata": {},
   "outputs": [
    {
     "name": "stdout",
     "output_type": "stream",
     "text": [
      "Animals make sounds\n",
      "Dog says Woof\n",
      "cat says Meow\n"
     ]
    }
   ],
   "source": [
    "##Create a class Animal with a method speak(). Create subclasses Dog and Cat that override the speak() method.\n",
    "class Animal:\n",
    "    def speak(self):\n",
    "        print(\"Animals make sounds\")\n",
    "## subclass of dog inherit by Animal class\n",
    "class Dog(Animal):\n",
    "    def speak(self):\n",
    "        print(\"Dog says Woof\")\n",
    "## subclass of cat inherit by Animal class\n",
    "class Cat(Animal):\n",
    "    def speak(self):\n",
    "        print(\"cat says Meow\")\n",
    "## create object\n",
    "a=Animal()\n",
    "b=Dog()\n",
    "c=Cat()\n",
    "## override the speak method\n",
    "a.speak()\n",
    "b.speak()\n",
    "c.speak()"
   ]
  },
  {
   "cell_type": "code",
   "execution_count": 39,
   "id": "8a5958ee",
   "metadata": {},
   "outputs": [
    {
     "name": "stdout",
     "output_type": "stream",
     "text": [
      "Deposited ₹20000. Updated balance: ₹100000\n",
      "Withdrew ₹10000. Updated balance: ₹90000\n",
      "Current balance: ₹90000\n"
     ]
    }
   ],
   "source": [
    "# Create a class BankAccount with balance and methods deposit() and withdraw()\n",
    "class BankAccount:\n",
    "    def __init__(self, balance):\n",
    "        self.balance = balance\n",
    "        self.deposit()\n",
    "        self.withdraw()\n",
    "        self.display_balance()\n",
    "\n",
    "    def deposit(self):\n",
    "        deposit_money = int(input(\"Enter the amount you want to deposit: \"))\n",
    "        self.balance += deposit_money\n",
    "        print(f\"Deposited ₹{deposit_money}. Updated balance: ₹{self.balance}\")\n",
    "\n",
    "    def withdraw(self):\n",
    "        withdraw_money = int(input(\"Enter the amount you want to withdraw: \"))\n",
    "        if withdraw_money > self.balance:\n",
    "            print(\"Insufficient funds!\")\n",
    "        else:\n",
    "            self.balance -= withdraw_money\n",
    "            print(f\"Withdrew ₹{withdraw_money}. Updated balance: ₹{self.balance}\")\n",
    "\n",
    "    def display_balance(self):\n",
    "        print(f\"Current balance: ₹{self.balance}\")\n",
    "\n",
    "\n",
    "acc=BankAccount(80000)"
   ]
  },
  {
   "cell_type": "code",
   "execution_count": 40,
   "id": "dd0d32ee",
   "metadata": {},
   "outputs": [
    {
     "name": "stdout",
     "output_type": "stream",
     "text": [
      "Deposited ₹100. Updated balance: ₹600\n",
      "Insufficient funds!\n",
      "Current balance: ₹600\n"
     ]
    }
   ],
   "source": [
    "acc1=BankAccount(500)"
   ]
  },
  {
   "cell_type": "code",
   "execution_count": 41,
   "id": "5eb11719",
   "metadata": {},
   "outputs": [
    {
     "name": "stdout",
     "output_type": "stream",
     "text": [
      "Deposited ₹1. Updated balance: ₹80001\n",
      "Withdrew ₹2. Updated balance: ₹79999\n",
      "Current balance: ₹79999\n"
     ]
    }
   ],
   "source": [
    "# Create an account with ₹80,000\n",
    "acc = BankAccount(80000)\n",
    "\n",
    "\n"
   ]
  },
  {
   "cell_type": "code",
   "execution_count": 43,
   "id": "c238ac79",
   "metadata": {},
   "outputs": [
    {
     "name": "stdout",
     "output_type": "stream",
     "text": [
      "Deposited ₹2. Updated balance: ₹80001\n"
     ]
    }
   ],
   "source": [
    "\n",
    "# Deposit money\n",
    "acc.deposit()\n",
    "\n",
    "\n",
    "\n"
   ]
  },
  {
   "cell_type": "code",
   "execution_count": null,
   "id": "d45525ac",
   "metadata": {},
   "outputs": [
    {
     "name": "stdout",
     "output_type": "stream",
     "text": [
      "Employee Name: raj\n",
      "Salary: ₹50000\n",
      "Company: Unisole Pvt. Ltd\n"
     ]
    }
   ],
   "source": [
    "#Create a class Employee with a class variable company_name and instance variables name, salary.\n",
    "class Employee:\n",
    "    # Class variable (shared among all instances)\n",
    "    company_name = \"Unisole Pvt. Ltd\"\n",
    "\n",
    "    def __init__(self, name, salary):\n",
    "        # Instance variables (unique to each object)\n",
    "        self.name = name\n",
    "        self.salary = salary\n",
    "        self.display_info()\n",
    "\n",
    "    def display_info(self):\n",
    "        print(f\"Employee Name: {self.name}\")\n",
    "        print(f\"Salary: ₹{self.salary}\")\n",
    "        print(f\"Company: {Employee.company_name}\")\n",
    "\n",
    "e1=Employee(\"raj\",50000)"
   ]
  },
  {
   "cell_type": "code",
   "execution_count": null,
   "id": "3cd8adab",
   "metadata": {},
   "outputs": [],
   "source": []
  }
 ],
 "metadata": {
  "kernelspec": {
   "display_name": "base",
   "language": "python",
   "name": "python3"
  },
  "language_info": {
   "codemirror_mode": {
    "name": "ipython",
    "version": 3
   },
   "file_extension": ".py",
   "mimetype": "text/x-python",
   "name": "python",
   "nbconvert_exporter": "python",
   "pygments_lexer": "ipython3",
   "version": "3.12.4"
  }
 },
 "nbformat": 4,
 "nbformat_minor": 5
}
